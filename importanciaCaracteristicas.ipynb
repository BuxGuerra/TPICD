{
  "nbformat": 4,
  "nbformat_minor": 0,
  "metadata": {
    "colab": {
      "provenance": [],
      "mount_file_id": "1Feex-vLvlBTwaC6bVY6hYx5Me_WbsC8G",
      "authorship_tag": "ABX9TyMYr+rmdfCuIJ25pMkedRUf",
      "include_colab_link": true
    },
    "kernelspec": {
      "name": "python3",
      "display_name": "Python 3"
    },
    "language_info": {
      "name": "python"
    }
  },
  "cells": [
    {
      "cell_type": "markdown",
      "metadata": {
        "id": "view-in-github",
        "colab_type": "text"
      },
      "source": [
        "<a href=\"https://colab.research.google.com/github/BuxGuerra/TPICD/blob/main/importanciaCaracteristicas.ipynb\" target=\"_parent\"><img src=\"https://colab.research.google.com/assets/colab-badge.svg\" alt=\"Open In Colab\"/></a>"
      ]
    },
    {
      "cell_type": "code",
      "execution_count": null,
      "metadata": {
        "id": "yF9gXqJwxe_q"
      },
      "outputs": [],
      "source": [
        "import pandas as pd\n",
        "import numpy as np\n",
        "import os\n",
        "import matplotlib.pyplot as plt"
      ]
    },
    {
      "cell_type": "code",
      "source": [
        "!git clone https://github.com/BuxGuerra/TPICD.git"
      ],
      "metadata": {
        "colab": {
          "base_uri": "https://localhost:8080/"
        },
        "id": "VYm5drLE7Bwz",
        "outputId": "46a50308-0418-4436-8bf7-e5f1936afb8b"
      },
      "execution_count": null,
      "outputs": [
        {
          "output_type": "stream",
          "name": "stdout",
          "text": [
            "fatal: destination path 'TPICD' already exists and is not an empty directory.\n"
          ]
        }
      ]
    },
    {
      "cell_type": "code",
      "source": [
        "#Dicionário para guardar finalistas:\n",
        "seasonFirstSecond = {'2010-11':('Dallas Mavericks','Miami Heat'),\n",
        "                     '2011-12':('Miami Heat','Oklahoma City Thunder'),\n",
        "                     '2012-13':('Miami Heat','San Antonio Spurs'),\n",
        "                     '2013-14':('San Antonio Spurs','Miami Heat'),\n",
        "                     '2014-15':('Golden State Warriors','Cleveland Cavaliers'),\n",
        "                     '2015-16':('Cleveland Cavaliers','Golden State Warriors'),\n",
        "                     '2016-17':('Golden State Warriors','Miami Heat'),\n",
        "                     '2017-18':('Dallas Mavericks','Cleveland Cavaliers'),\n",
        "                     '2018-19':('Toronto Raptors','Golden State Warriors'),\n",
        "                     '2019-20':('Los Angeles Lakers','Miami Heat'),\n",
        "                     '2020-21':('Milwaukee Bucks','Phoenix Suns'),\n",
        "                     '2021-22':('Golden State Warriors','Boston Celtics'),\n",
        "                     '2022-23':('Denver Nuggets','Miami Heat'),}\n",
        "\n",
        "\n",
        "#Dicionário para guardar resultado:\n",
        "importanciaEstatisticas = {'W_RANK': 0, 'L_RANK': 0, 'W_PCT_RANK': 0, 'MIN_RANK': 0, 'FGM_RANK': 0, 'FGA_RANK': 0, 'FG_PCT_RANK': 0, 'FG3M_RANK': 0, 'FG3A_RANK': 0, 'FG3_PCT_RANK': 0, 'FTM_RANK': 0, 'FTA_RANK': 0, 'FT_PCT_RANK': 0, 'OREB_RANK': 0, 'DREB_RANK': 0, 'REB_RANK': 0, 'AST_RANK': 0, 'TOV_RANK': 0, 'STL_RANK': 0, 'BLK_RANK': 0, 'BLKA_RANK': 0, 'PF_RANK': 0, 'PFD_RANK': 0, 'PTS_RANK': 0, 'PLUS_MINUS_RANK': 0}\n",
        "\n"
      ],
      "metadata": {
        "id": "mcPsl7JZY9tu"
      },
      "execution_count": null,
      "outputs": []
    },
    {
      "cell_type": "code",
      "source": [
        "def contarImportancia(importanciaEstatisticas, filePath, finalistas):\n",
        "  df = pd.read_csv(filePath)\n",
        "\n",
        "  first = df.loc[df['TEAM_NAME'] == finalistas[0]]\n",
        "  second = df.loc[df['TEAM_NAME'] == finalistas[1]]\n",
        "\n",
        "  firstRanks = first.iloc[:,30:]\n",
        "  secondRanks = second.iloc[:,30:]\n",
        "\n",
        "  for col in firstRanks.columns:\n",
        "    if(firstRanks[col].item() <= 4):\n",
        "      importanciaEstatisticas[col] = importanciaEstatisticas[col] + 1\n",
        "\n",
        "  for col in secondRanks.columns:\n",
        "    if(secondRanks[col].item() <= 4):\n",
        "      importanciaEstatisticas[col] = importanciaEstatisticas[col] + 1\n"
      ],
      "metadata": {
        "id": "KGXgyCIi0RYB"
      },
      "execution_count": null,
      "outputs": []
    },
    {
      "cell_type": "code",
      "source": [
        "directory = '/content/TPICD/bases'\n",
        "\n",
        "for fileName in os.listdir(directory):\n",
        "    if(fileName != '.ipynb_checkpoints'):\n",
        "      filePath = os.path.join(directory, fileName)\n",
        "      season = fileName.split('.csv')[0]\n",
        "      contarImportancia(importanciaEstatisticas, filePath, seasonFirstSecond[season])\n",
        "\n"
      ],
      "metadata": {
        "id": "qP4Lhp7IuO8b"
      },
      "execution_count": null,
      "outputs": []
    },
    {
      "cell_type": "code",
      "source": [
        "importanciaEstatisticasAux = {}\n",
        "\n",
        "for key in importanciaEstatisticas:\n",
        "  newKey = key.split('_RANK')[0]\n",
        "  importanciaEstatisticasAux[newKey] = importanciaEstatisticas[key]\n",
        "\n",
        "importanciaEstatisticas = importanciaEstatisticasAux\n"
      ],
      "metadata": {
        "id": "_DfXUDdt2NHd"
      },
      "execution_count": null,
      "outputs": []
    },
    {
      "cell_type": "code",
      "source": [
        "importanciaEstatisticas"
      ],
      "metadata": {
        "colab": {
          "base_uri": "https://localhost:8080/"
        },
        "id": "IsKapJNlBz7N",
        "outputId": "f0cae7fa-4060-4f19-fd2b-bbc361a1ddd3"
      },
      "execution_count": null,
      "outputs": [
        {
          "output_type": "execute_result",
          "data": {
            "text/plain": [
              "{'W': 17,\n",
              " 'L': 17,\n",
              " 'W_PCT': 17,\n",
              " 'MIN': 4,\n",
              " 'FGM': 10,\n",
              " 'FGA': 3,\n",
              " 'FG_PCT': 15,\n",
              " 'FG3M': 9,\n",
              " 'FG3A': 6,\n",
              " 'FG3_PCT': 9,\n",
              " 'FTM': 2,\n",
              " 'FTA': 3,\n",
              " 'FT_PCT': 7,\n",
              " 'OREB': 0,\n",
              " 'DREB': 11,\n",
              " 'REB': 2,\n",
              " 'AST': 9,\n",
              " 'TOV': 3,\n",
              " 'STL': 6,\n",
              " 'BLK': 8,\n",
              " 'BLKA': 15,\n",
              " 'PF': 6,\n",
              " 'PFD': 0,\n",
              " 'PTS': 7,\n",
              " 'PLUS_MINUS': 15}"
            ]
          },
          "metadata": {},
          "execution_count": 50
        }
      ]
    },
    {
      "cell_type": "code",
      "source": [
        "x = list(importanciaEstatisticas.keys())\n",
        "y = list(importanciaEstatisticas.values())\n",
        "\n",
        "plt.barh(x, y)\n",
        "plt.xlabel('')\n",
        "plt.ylabel('')\n",
        "plt.title('Importancia das estatisticas')\n",
        "\n",
        "plt.show()"
      ],
      "metadata": {
        "colab": {
          "base_uri": "https://localhost:8080/",
          "height": 452
        },
        "id": "BrjWJduY6Qsp",
        "outputId": "9bbfddcf-b5c9-4b0e-d98d-d2dacb64f965"
      },
      "execution_count": null,
      "outputs": [
        {
          "output_type": "display_data",
          "data": {
            "text/plain": [
              "<Figure size 640x480 with 1 Axes>"
            ],
            "image/png": "[encoded data removed]"
          },
          "metadata": {}
        }
      ]
    }
  ]
}
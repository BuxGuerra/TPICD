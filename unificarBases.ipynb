{
  "nbformat": 4,
  "nbformat_minor": 0,
  "metadata": {
    "colab": {
      "provenance": [],
      "mount_file_id": "1Feex-vLvlBTwaC6bVY6hYx5Me_WbsC8G",
      "authorship_tag": "ABX9TyN6XmATXJt88hEDPglIgZjj",
      "include_colab_link": true
    },
    "kernelspec": {
      "name": "python3",
      "display_name": "Python 3"
    },
    "language_info": {
      "name": "python"
    }
  },
  "cells": [
    {
      "cell_type": "markdown",
      "metadata": {
        "id": "view-in-github",
        "colab_type": "text"
      },
      "source": [
        "<a href=\"https://colab.research.google.com/github/BuxGuerra/TPICD/blob/main/unificarBases.ipynb\" target=\"_parent\"><img src=\"https://colab.research.google.com/assets/colab-badge.svg\" alt=\"Open In Colab\"/></a>"
      ]
    },
    {
      "cell_type": "code",
      "execution_count": 24,
      "metadata": {
        "id": "yF9gXqJwxe_q"
      },
      "outputs": [],
      "source": [
        "import pandas as pd\n",
        "import numpy as np\n",
        "import os\n",
        "import matplotlib.pyplot as plt"
      ]
    },
    {
      "cell_type": "code",
      "source": [
        "!git clone https://github.com/BuxGuerra/TPICD.git"
      ],
      "metadata": {
        "colab": {
          "base_uri": "https://localhost:8080/"
        },
        "id": "VYm5drLE7Bwz",
        "outputId": "dbcac0f4-0430-4b1c-b5a9-3424ef5ccef9"
      },
      "execution_count": 25,
      "outputs": [
        {
          "output_type": "stream",
          "name": "stdout",
          "text": [
            "fatal: destination path 'TPICD' already exists and is not an empty directory.\n"
          ]
        }
      ]
    },
    {
      "cell_type": "code",
      "source": [
        "#Dicionário para guardar finalistas:\n",
        "seasonFirstSecond = {'2010-11':('Dallas Mavericks','Miami Heat'),\n",
        "                     '2011-12':('Miami Heat','Oklahoma City Thunder'),\n",
        "                     '2012-13':('Miami Heat','San Antonio Spurs'),\n",
        "                     '2013-14':('San Antonio Spurs','Miami Heat'),\n",
        "                     '2014-15':('Golden State Warriors','Cleveland Cavaliers'),\n",
        "                     '2015-16':('Cleveland Cavaliers','Golden State Warriors'),\n",
        "                     '2016-17':('Golden State Warriors','Miami Heat'),\n",
        "                     '2017-18':('Dallas Mavericks','Cleveland Cavaliers'),\n",
        "                     '2018-19':('Toronto Raptors','Golden State Warriors'),\n",
        "                     '2019-20':('Los Angeles Lakers','Miami Heat'),\n",
        "                     '2020-21':('Milwaukee Bucks','Phoenix Suns'),\n",
        "                     '2021-22':('Golden State Warriors','Boston Celtics'),\n",
        "                     '2022-23':('Denver Nuggets','Miami Heat'),}\n"
      ],
      "metadata": {
        "id": "mcPsl7JZY9tu"
      },
      "execution_count": 26,
      "outputs": []
    },
    {
      "cell_type": "code",
      "source": [
        "def label(dfSeason, finalistas):\n",
        "  dfSeason['FINAL'] = 0\n",
        "  dfSeason['FINAL'] = np.where((dfSeason['TEAM_NAME'] == finalistas[0]) | (dfSeason['TEAM_NAME'] == finalistas[1]), 1, dfSeason['FINAL'])\n"
      ],
      "metadata": {
        "id": "LWCHAgQtawcA"
      },
      "execution_count": 27,
      "outputs": []
    },
    {
      "cell_type": "code",
      "source": [
        "directory = '/content/TPICD/data/basesSeparadas'\n",
        "dfSeasonTest = pd.read_csv(\"/content/TPICD/data/basesSeparadas/2010-11.csv\")\n",
        "dfFinal = pd.DataFrame(columns=dfSeasonTest.columns)\n",
        "\n",
        "\n",
        "for fileName in os.listdir(directory):\n",
        "    if(fileName != '.ipynb_checkpoints'):\n",
        "      filePath = os.path.join(directory, fileName)\n",
        "      dfSeason = pd.read_csv(filePath)\n",
        "      season = fileName.split('.csv')[0]\n",
        "      label(dfSeason, seasonFirstSecond[season])\n",
        "      dfFinal = pd.concat([dfFinal, dfSeason])\n",
        "\n",
        "dfFinal.to_csv('TemporadasUnificadas.csv')"
      ],
      "metadata": {
        "id": "Zw6d74IZkj3u"
      },
      "execution_count": 28,
      "outputs": []
    }
  ]
}